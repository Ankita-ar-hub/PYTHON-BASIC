{
  "nbformat": 4,
  "nbformat_minor": 0,
  "metadata": {
    "colab": {
      "provenance": []
    },
    "kernelspec": {
      "name": "python3",
      "display_name": "Python 3"
    },
    "language_info": {
      "name": "python"
    }
  },
  "cells": [
    {
      "cell_type": "markdown",
      "source": [
        "# **SOLUTION/ ANSWERS.**"
      ],
      "metadata": {
        "id": "yJOq1pnH8LLl"
      }
    },
    {
      "cell_type": "markdown",
      "source": [
        "1. What is Python, and why is it popular?\n",
        "\n",
        "ans:Python is a high-level, interpreted, general-purpose programming language. It was created by Guido van Rossum and first released in 1991.\n",
        "\n",
        "is it popular for the following reasons:\n",
        "\n",
        "* Readability and Simplicity\n",
        "* Versatility/General Purpose\n",
        "* Large Standard Library\n",
        "* Vast Ecosystem and Community Support   \n",
        "* Interpreted language\n",
        "\n",
        "\n",
        "2.What is an interpreter in Python?\n",
        "\n",
        "ans: An interpreter is a program that directly executes instructions written in a programming language, without requiring them to be previously compiled into a machine-language program.\n",
        "\n",
        "3. What are pre-defined keywords in Python?\n",
        "\n",
        "ans: Re-defined keywords (also known as reserved words) are special words that have a fixed meaning and purpose in Python. They are part of the language's syntax and cannot be used for any other purpose, such as variable names, function names, or class names.\n",
        "\n",
        "Examples include: if, else, for, while, def, class, import, True, False, None, and, or, not, etc.\n",
        "\n",
        "\n",
        "\n",
        "4.Can keywords be used as variable names?\n",
        "\n",
        "ans: No, keywords cannot be used as variable names (or any other identifier like function names, class names, etc.). Doing so will result in a SyntaxError. Python reserves these words for its own internal structure and logic.\n",
        "\n",
        "\n",
        "\n",
        "\n",
        "5.  What is mutability in Python?\n",
        "\n",
        "ans: Mutability refers to the ability of an object to be changed after it has been created.\n",
        "Mutable objects can be modified in place after they are created. Their content can be altered without creating a new object.\n",
        "\n",
        "\n",
        "\n",
        "\n",
        "6. Why are lists mutable, but tuples are immutable?\n",
        "\n",
        "ans: Lists are mutable:\n",
        "\n",
        "They are designed to store collections of items that might need to be added, removed, or changed frequently.\n",
        "\n",
        "Their mutability makes them efficient for operations like append(), insert(), remove(), sort(), etc., as these operations modify the existing list directly.\n",
        "\n",
        "Tuples are immutable:\n",
        "\n",
        "They are designed to store collections of items that are fixed and should not change.\n",
        "\n",
        "Their immutability makes them useful for representing fixed collections of related data (e.g., coordinates, RGB color values).\n",
        "\n",
        "\n",
        "\n",
        "\n",
        "7. What is the difference between “==” and “is” operators in Python?\n",
        "\n",
        "ans: == (Equality Operator): This operator checks for value equality. It determines if the values of two operands are equal.\n",
        "\n",
        "is (Identity Operator): This operator checks for object identity. It determines if two operands refer to the exact same object in memory. It compares the memory addresses of the objects.\n",
        "\n",
        "\n",
        "\n",
        "\n",
        "8.  What are logical operators in Python?\n",
        "\n",
        "ans: Logical operators are used to combine conditional statements or to evaluate the truth or falsehood of expressions. Python has three logical operators:\n",
        "* and: Returns True if both operands are True.\n",
        "* or: Returns True if at least one of the operands is True\n",
        "* not: Reverses the logical state of its operand.\n",
        "\n",
        "\n",
        "\n",
        "\n",
        "9.  What is type casting in Python?\n",
        "\n",
        "ans: Type casting (also known as type conversion) is the process of converting a variable or value from one data type to another. This is often necessary when you need to perform operations that require specific data types or when you're reading input that comes as a string but needs to be treated as a number.\n",
        "\n",
        "\n",
        "\n",
        "\n",
        "\n",
        "10. What is the difference between implicit and explicit type casting?\n",
        "\n",
        "ans: *Implicit Type Casting (Coercion):*\n",
        "\n",
        "This is done automatically by the Python interpreter when it's safe to do so without loss of data.\n",
        "\n",
        "Python promotes the \"smaller\" data type to the \"larger\" data type to prevent data loss.\n",
        "Example: When an integer is added to a float, the integer is implicitly converted to a float.\n",
        "\n",
        "Explicit Type Casting (Type Conversion):\n",
        "\n",
        "This is done manually by the programmer using built-in functions like int(), float(), str(), list(), tuple(), etc.\n",
        "It requires you to explicitly state the desired data type.\n",
        "\n",
        "\n",
        "\n",
        "\n",
        "\n",
        "11. What is the purpose of conditional statements in Python?\n",
        "\n",
        "ans: Conditional statements (also known as decision-making statements) allow your program to execute different blocks of code based on whether a certain condition is true or false. They enable your program to make choices and respond dynamically to different inputs or situations.\n",
        "The primary conditional statements in Python are if, elif, and else.\n",
        "\n"
      ],
      "metadata": {
        "id": "nm01Fw9C8ghp"
      }
    },
    {
      "cell_type": "markdown",
      "source": [
        "\n",
        "\n",
        "12. How does the elif statement work?\n",
        "\n",
        "ans: The elif (short for \"else if\") statement is used in conjunction with if to test multiple conditions sequentially.\n",
        "\n",
        "When an if statement's condition is False, Python then checks the condition of the first elif statement.\n",
        "\n",
        "If that elif condition is True, its corresponding block of code is executed, and the rest of the elif and else blocks (if any) are skipped.\n",
        "\n",
        "If the first elif condition is False, Python proceeds to check the next elif (if present), and so on.\n",
        "\n",
        "If none of the if or elif conditions are True, the else block (if present) is executed as a fallback."
      ],
      "metadata": {
        "id": "x5JI6Bkd8ZTY"
      }
    },
    {
      "cell_type": "code",
      "execution_count": null,
      "metadata": {
        "id": "2ZObGIpp8FUT"
      },
      "outputs": [],
      "source": [
        "#example\n",
        "score = 85\n",
        "if score >= 90:\n",
        "    print(\"Grade: A\")\n",
        "elif score >= 80: # This condition is checked only if the 'if' condition (score >= 90) is False\n",
        "    print(\"Grade: B\")\n",
        "elif score >= 70: # This condition is checked only if the previous 'if' and 'elif' conditions are False\n",
        "    print(\"Grade: C\")\n",
        "else:\n",
        "    print(\"Grade: F\")"
      ]
    },
    {
      "cell_type": "markdown",
      "source": [
        "\n",
        "\n",
        "\n",
        "13. What is the difference between for and while loops?\n",
        "\n",
        "ans: Both for and while loops are used for iteration (repeating a block of code), but they are best suited for different scenarios:\n",
        "\n",
        "for loop:\n",
        "\n",
        "Purpose: Primarily used for iterating over a sequence (like a list, tuple, string, or range) or any iterable object.\n",
        "\n",
        "Known iterations: You typically know in advance how many times the loop will run, as it iterates over a finite collection of items.\n",
        "\n",
        "Structure: It iterates through each item in the sequence, and the loop body is executed once for each item.\n",
        "\n",
        "When to use: When you need to process each item in a collection, or when you need to repeat an action a specific number of times.\n",
        "\n",
        "while loop:\n",
        "\n",
        "Purpose: Used for repeating a block of code as long as a certain condition remains true.\n",
        "\n",
        "Unknown iterations: The number of iterations is not typically known beforehand; it continues until the condition becomes false.\n",
        "\n",
        "Structure: The loop continues to execute its body as long as the specified condition evaluates to True.\n",
        "\n",
        "When to use: When you need to repeat an action until a specific condition is met, such as getting valid user input, processing data from a stream until it ends, or implementing game loops\n",
        "\n",
        "\n",
        "\n",
        "\n",
        "\n",
        "\n",
        "14.  Describe a scenario where a while loop is more suitable than a for loop\n",
        "\n",
        "ans: A while loop is more suitable when the number of iterations is not known in advance and depends on a certain condition being met.\n",
        "\n",
        "Scenario: User Input Validation\n",
        "\n",
        "Imagine you need to prompt a user to enter their age, and you want to ensure that the input is a valid positive integer. If the user enters something that isn't a number or is a negative number, you want to keep asking them until they provide valid input."
      ],
      "metadata": {
        "id": "TORmf4E1BZz6"
      }
    },
    {
      "cell_type": "markdown",
      "source": [],
      "metadata": {
        "id": "t3z5i3ShCIHb"
      }
    },
    {
      "cell_type": "markdown",
      "source": [
        "# **PRACTICAL** **QUESTION ANSWER/SOLUTION **"
      ],
      "metadata": {
        "id": "_JnqWRvn6mUH"
      }
    },
    {
      "cell_type": "markdown",
      "source": [
        "1. Write a Python program to print \"Hello, World!\""
      ],
      "metadata": {
        "id": "v-FBWoo16s5I"
      }
    },
    {
      "cell_type": "code",
      "source": [
        "a = \"Hello, World!\"\n",
        "print(a)"
      ],
      "metadata": {
        "colab": {
          "base_uri": "https://localhost:8080/"
        },
        "id": "HYsiBYUn63dD",
        "outputId": "c9740bc9-bab3-4c5d-f4e4-bbfb8097df90"
      },
      "execution_count": null,
      "outputs": [
        {
          "output_type": "stream",
          "name": "stdout",
          "text": [
            "Hello, World!\n"
          ]
        }
      ]
    },
    {
      "cell_type": "markdown",
      "source": [
        "2. Write a Python program that displays your name and age."
      ],
      "metadata": {
        "id": "UN1el1647E5b"
      }
    },
    {
      "cell_type": "code",
      "source": [
        "a = input(\"enter your name\")\n",
        "b = input(\"enter your age\")\n",
        "print(a)\n",
        "print(b)"
      ],
      "metadata": {
        "colab": {
          "base_uri": "https://localhost:8080/"
        },
        "id": "03m1r3iw7LWs",
        "outputId": "140fc1b4-485e-4d2a-b209-4e9374609277"
      },
      "execution_count": null,
      "outputs": [
        {
          "output_type": "stream",
          "name": "stdout",
          "text": [
            "enter your nameANKITA KUMARI\n",
            "enter your age20\n",
            "ANKITA KUMARI\n",
            "20\n"
          ]
        }
      ]
    },
    {
      "cell_type": "markdown",
      "source": [
        " 3. Write code to print all the pre-defined keywords in Python using the keyword library"
      ],
      "metadata": {
        "id": "r-ZeCw4H7dDP"
      }
    },
    {
      "cell_type": "code",
      "source": [
        "import keyword\n",
        "print(keyword.kwlist)"
      ],
      "metadata": {
        "colab": {
          "base_uri": "https://localhost:8080/"
        },
        "id": "O3ZS9kF87kbw",
        "outputId": "eee2aa1c-346c-4829-bfe5-3513607b350c"
      },
      "execution_count": null,
      "outputs": [
        {
          "output_type": "stream",
          "name": "stdout",
          "text": [
            "['False', 'None', 'True', 'and', 'as', 'assert', 'async', 'await', 'break', 'class', 'continue', 'def', 'del', 'elif', 'else', 'except', 'finally', 'for', 'from', 'global', 'if', 'import', 'in', 'is', 'lambda', 'nonlocal', 'not', 'or', 'pass', 'raise', 'return', 'try', 'while', 'with', 'yield']\n"
          ]
        }
      ]
    },
    {
      "cell_type": "markdown",
      "source": [
        "4.  Write a program that checks if a given word is a Python keyword."
      ],
      "metadata": {
        "id": "Ty4m7gyj78cj"
      }
    },
    {
      "cell_type": "code",
      "source": [
        "import keyword\n",
        "word = input(\"Enter a word to check:\")\n",
        "if keyword.iskeyword(word):\n",
        "    print(f\"'{word}' is a Python keyword.\")\n",
        "else:\n",
        "    print(f\"'{word}' is not a Python keyword.\")"
      ],
      "metadata": {
        "colab": {
          "base_uri": "https://localhost:8080/"
        },
        "id": "kru4HnWf8Crf",
        "outputId": "6f935974-5e06-4d78-f024-e5038906879a"
      },
      "execution_count": null,
      "outputs": [
        {
          "output_type": "stream",
          "name": "stdout",
          "text": [
            "Enter a word to check:del\n",
            "'del' is a Python keyword.\n"
          ]
        }
      ]
    },
    {
      "cell_type": "markdown",
      "source": [
        "5. Create a list and tuple in Python, and demonstrate how attempting to change an element works differently\n",
        "for each."
      ],
      "metadata": {
        "id": "DYfzubPn8V7J"
      }
    },
    {
      "cell_type": "code",
      "metadata": {
        "colab": {
          "base_uri": "https://localhost:8080/"
        },
        "id": "723652c6",
        "outputId": "58e10124-c49e-49df-c817-542000edecda"
      },
      "source": [
        "# Create a list\n",
        "my_list = [1, 2, 3, 4]\n",
        "print(\"Original list:\", my_list)\n",
        "\n",
        "# Attempt to change an element in the list\n",
        "my_list[1] = 10\n",
        "print(\"Modified list:\", my_list)\n",
        "\n",
        "# Create a tuple\n",
        "my_tuple = (1, 2, 3, 4)\n",
        "print(\"\\nOriginal tuple:\", my_tuple)\n",
        "\n",
        "# Attempt to change an element in the tuple (this will cause an error)\n",
        "try:\n",
        "    my_tuple[1] = 10\n",
        "except TypeError as e:\n",
        "    print(\"Error when attempting to modify tuple:\", e)"
      ],
      "execution_count": null,
      "outputs": [
        {
          "output_type": "stream",
          "name": "stdout",
          "text": [
            "Original list: [1, 2, 3, 4]\n",
            "Modified list: [1, 10, 3, 4]\n",
            "\n",
            "Original tuple: (1, 2, 3, 4)\n",
            "Error when attempting to modify tuple: 'tuple' object does not support item assignment\n"
          ]
        }
      ]
    },
    {
      "cell_type": "markdown",
      "source": [
        "6. Write a function to demonstrate the behavior of mutable and immutable arguments."
      ],
      "metadata": {
        "id": "qk7DH-88BT5G"
      }
    },
    {
      "cell_type": "code",
      "source": [
        "# Create a mutable object (list) and an immutable object (integer)\n",
        "my_list = [1, 2, 3, 4]\n",
        "my_integer = 10\n",
        "\n",
        "print(\"Outside function (before call):\")\n",
        "print(\"  Mutable list:\", my_list)\n",
        "print(\"  Immutable integer:\", my_integer)\n",
        "\n",
        "# Call the function\n",
        "demonstrate_mutability(my_list, my_integer)\n",
        "\n",
        "print(\"Outside function (after call):\")\n",
        "print(\"  Mutable list:\", my_list)\n",
        "print(\"  Immutable integer:\", my_integer)"
      ],
      "metadata": {
        "colab": {
          "base_uri": "https://localhost:8080/"
        },
        "id": "gTODaL-uBlTL",
        "outputId": "cf1fb2f9-aa60-4ed7-a0e9-8128d2369e87"
      },
      "execution_count": null,
      "outputs": [
        {
          "output_type": "stream",
          "name": "stdout",
          "text": [
            "Outside function (before call):\n",
            "  Mutable list: [1, 2, 3, 4]\n",
            "  Immutable integer: 10\n",
            "Inside function (before modification):\n",
            "  Mutable list: [1, 2, 3, 4]\n",
            "  Immutable integer: 10\n",
            "Inside function (after modification):\n",
            "  Mutable list: [1, 2, 3, 4, 5]\n",
            "  Immutable integer: 11\n",
            "Outside function (after call):\n",
            "  Mutable list: [1, 2, 3, 4, 5]\n",
            "  Immutable integer: 10\n"
          ]
        }
      ]
    },
    {
      "cell_type": "markdown",
      "source": [
        "7. Write a program that performs basic arithmetic operations on two user-input numbers"
      ],
      "metadata": {
        "id": "Rit1wswFCGTS"
      }
    },
    {
      "cell_type": "code",
      "source": [
        "a = int(input(\"enter a number\"))\n",
        "b = int(input(\"enter a number\"))\n",
        "print(a+b)\n",
        "print(a-b)\n",
        "print(a*b)"
      ],
      "metadata": {
        "colab": {
          "base_uri": "https://localhost:8080/"
        },
        "id": "8sXShdEyCOu0",
        "outputId": "1e1e927f-3afc-4fe4-b237-10423d596afa"
      },
      "execution_count": null,
      "outputs": [
        {
          "output_type": "stream",
          "name": "stdout",
          "text": [
            "enter a number10\n",
            "enter a number12\n",
            "22\n",
            "-2\n",
            "120\n"
          ]
        }
      ]
    },
    {
      "cell_type": "markdown",
      "source": [
        "8. . Write a program to demonstrate the use of logical operators"
      ],
      "metadata": {
        "id": "hyfjlHRxDL4f"
      }
    },
    {
      "cell_type": "code",
      "metadata": {
        "colab": {
          "base_uri": "https://localhost:8080/"
        },
        "id": "47cfdec3",
        "outputId": "04e83481-7c5f-4a4a-f338-fad6dd9fbf8a"
      },
      "source": [
        "# AND Operatrr\n",
        "age = 25\n",
        "has_license = True\n",
        "can_rent_car = age > 21 and has_license\n",
        "print(f\"Can rent a car (age > 21 and has_license): {can_rent_car}\")\n",
        "\n",
        "# OR Operator\n",
        "is_senior = age > 65\n",
        "is_veteran = False\n",
        "eligible_for_discount = is_senior or is_veteran\n",
        "print(f\"Eligible for senior discount (is_senior or is_veteran): {eligible_for_discount}\")\n",
        "\n",
        "# NOT Operator\n",
        "is_minor = age < 18\n",
        "is_not_minor = not is_minor\n",
        "print(f\"Is not a minor (not is_minor): {is_not_minor}\")"
      ],
      "execution_count": null,
      "outputs": [
        {
          "output_type": "stream",
          "name": "stdout",
          "text": [
            "Can rent a car (age > 21 and has_license): True\n",
            "Eligible for senior discount (is_senior or is_veteran): False\n",
            "Is not a minor (not is_minor): True\n"
          ]
        }
      ]
    },
    {
      "cell_type": "markdown",
      "source": [
        "9.  Write a Python program to convert user input from string to integer, float, and boolean types"
      ],
      "metadata": {
        "id": "daJFBqz8eNnj"
      }
    },
    {
      "cell_type": "code",
      "source": [
        "a = input(\"enter a number\")\n",
        "b = int(a)\n",
        "print(type(b))\n",
        "\n",
        "c = float(a)\n",
        "print(type(c))\n",
        "\n",
        "d = bool(a)\n",
        "print(type(d))"
      ],
      "metadata": {
        "colab": {
          "base_uri": "https://localhost:8080/"
        },
        "id": "dBrQwkaAeW2f",
        "outputId": "58d0029d-93e6-4d9d-c2dc-7153838a657d"
      },
      "execution_count": null,
      "outputs": [
        {
          "output_type": "stream",
          "name": "stdout",
          "text": [
            "enter a number16\n",
            "<class 'int'>\n",
            "<class 'float'>\n",
            "<class 'bool'>\n"
          ]
        }
      ]
    },
    {
      "cell_type": "markdown",
      "source": [],
      "metadata": {
        "id": "kpQSaFNVfn4F"
      }
    },
    {
      "cell_type": "markdown",
      "source": [
        "10. Write code to demonstrate type casting with list elements."
      ],
      "metadata": {
        "id": "A3N7xjT4fpZ7"
      }
    },
    {
      "cell_type": "code",
      "source": [
        "list = [1,2.10,3,\"Ankita\",\"apple\"]\n",
        "a = (type(list[0]))\n",
        "print(a)\n",
        "\n",
        "b = (type(list[1]))\n",
        "print(b)\n",
        "\n",
        "c = (type(list[2]))\n",
        "print(c)\n",
        "\n",
        "d = (type(list[3]))\n",
        "print(d)\n",
        "\n",
        "e = (type(list[4]))\n",
        "print(e)"
      ],
      "metadata": {
        "colab": {
          "base_uri": "https://localhost:8080/"
        },
        "id": "y-DfQSwDfuGd",
        "outputId": "e4c41296-cb2c-4c41-9881-5f0269349681"
      },
      "execution_count": null,
      "outputs": [
        {
          "output_type": "stream",
          "name": "stdout",
          "text": [
            "<class 'int'>\n",
            "<class 'float'>\n",
            "<class 'int'>\n",
            "<class 'str'>\n",
            "<class 'str'>\n"
          ]
        }
      ]
    },
    {
      "cell_type": "markdown",
      "source": [
        "11. Write a program that checks if a number is positive, negative, or zero"
      ],
      "metadata": {
        "id": "KmS9IK6phFNS"
      }
    },
    {
      "cell_type": "code",
      "source": [
        "a = int(input(\"enter a number\"))\n",
        "if a>0:\n",
        "  print(\"positive\")     # if a=10, it will print positive\n",
        "elif a<0:\n",
        "  print(\"negative\")     # if a= -5 , it will print negative\n",
        "else:\n",
        "  print(\"zero\")         # if a=0 , it will print zero"
      ],
      "metadata": {
        "colab": {
          "base_uri": "https://localhost:8080/"
        },
        "id": "ocaI-9pnhKYl",
        "outputId": "7b85c5fb-3687-4a3b-9971-35fb94e6c20b"
      },
      "execution_count": null,
      "outputs": [
        {
          "output_type": "stream",
          "name": "stdout",
          "text": [
            "enter a number0\n",
            "zero\n"
          ]
        }
      ]
    },
    {
      "cell_type": "markdown",
      "source": [
        "12.  Write a for loop to print numbers from 1 to 10."
      ],
      "metadata": {
        "id": "7fI1A1w2hpL3"
      }
    },
    {
      "cell_type": "code",
      "source": [
        "a = 10\n",
        "for i in range(1,11):\n",
        "  print(i)"
      ],
      "metadata": {
        "colab": {
          "base_uri": "https://localhost:8080/"
        },
        "id": "lgU6BNHchs2T",
        "outputId": "1121aade-d2a8-4a16-f12b-4a7fcb7bc1f7"
      },
      "execution_count": null,
      "outputs": [
        {
          "output_type": "stream",
          "name": "stdout",
          "text": [
            "1\n",
            "2\n",
            "3\n",
            "4\n",
            "5\n",
            "6\n",
            "7\n",
            "8\n",
            "9\n",
            "10\n"
          ]
        }
      ]
    },
    {
      "cell_type": "markdown",
      "source": [
        "13. Write a Python program to find the sum of all even numbers between 1 and 50"
      ],
      "metadata": {
        "id": "tBQ9d9iNiK4d"
      }
    },
    {
      "cell_type": "code",
      "source": [
        "sum = 0\n",
        "for i in range(1, 51):  # Iterate up to 50 (inclusive)\n",
        "  if i % 2 == 0:\n",
        "    sum += i\n",
        "print(f\"The sum of all even numbers between 1 and 50 is: {sum}\")"
      ],
      "metadata": {
        "colab": {
          "base_uri": "https://localhost:8080/"
        },
        "id": "SzViF95MiQO4",
        "outputId": "6da0dbe2-d949-4369-9bcc-5258ffc4d710"
      },
      "execution_count": null,
      "outputs": [
        {
          "output_type": "stream",
          "name": "stdout",
          "text": [
            "The sum of all even numbers between 1 and 50 is: 650\n"
          ]
        }
      ]
    },
    {
      "cell_type": "markdown",
      "source": [
        "14.  Write a program to reverse a string using a while loop."
      ],
      "metadata": {
        "id": "btn-J8UJi_Bz"
      }
    },
    {
      "cell_type": "code",
      "metadata": {
        "colab": {
          "base_uri": "https://localhost:8080/"
        },
        "id": "abaeef31",
        "outputId": "fb39415c-d710-405f-ab73-512d55905631"
      },
      "source": [
        "a = input(\"Enter a string to reverse: \")\n",
        "rev_string = \"\"\n",
        "index = len(a) - 1\n",
        "\n",
        "while index >= 0:\n",
        "  rev_string += a[index]\n",
        "  index -= 1\n",
        "\n",
        "print(f\"The reversed string is: {rev_string}\")"
      ],
      "execution_count": null,
      "outputs": [
        {
          "output_type": "stream",
          "name": "stdout",
          "text": [
            "Enter a string to reverse:  PYTHON\n",
            "The reversed string is: NOHTYP \n"
          ]
        }
      ]
    },
    {
      "cell_type": "markdown",
      "source": [
        "15. Write a Python program to calculate the factorial of a number provided by the user using a while loop."
      ],
      "metadata": {
        "id": "JU9qnyZwjmA4"
      }
    },
    {
      "cell_type": "code",
      "source": [
        "num = int(input(\"enter a number:\"))\n",
        "factorial = 1\n",
        "i = 1\n",
        "if num < 0:\n",
        "   print(\"factorial not defined\")\n",
        "elif num == 0:\n",
        "   print(\"the factorial of o is 1\")\n",
        "else:\n",
        "   while i<= num:\n",
        "     factorial *= i\n",
        "     i += 1\n",
        "   print(f\"the factorial of{num}is {factorial}.\")"
      ],
      "metadata": {
        "colab": {
          "base_uri": "https://localhost:8080/"
        },
        "id": "scVUx759lgxm",
        "outputId": "584e749f-1175-478a-e65b-1fd22b7358e1"
      },
      "execution_count": null,
      "outputs": [
        {
          "output_type": "stream",
          "name": "stdout",
          "text": [
            "enter a number: 8\n",
            "the factorial of8is 40320.\n"
          ]
        }
      ]
    }
  ]
}